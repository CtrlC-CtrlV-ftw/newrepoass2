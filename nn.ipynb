{
 "cells": [
  {
   "cell_type": "markdown",
   "metadata": {},
   "source": [
    "# Basic Single-Layer RELU Network"
   ]
  },
  {
   "cell_type": "code",
   "execution_count": 27,
   "metadata": {},
   "outputs": [
    {
     "name": "stdout",
     "output_type": "stream",
     "text": [
      "y.shape: (4, 1)\n",
      "Epoch [100/1000], Loss: 0.3614\n",
      "Epoch [200/1000], Loss: 0.3078\n",
      "Epoch [300/1000], Loss: 0.2736\n",
      "Epoch [400/1000], Loss: 0.2560\n",
      "Epoch [500/1000], Loss: 0.2511\n",
      "Epoch [600/1000], Loss: 0.2502\n",
      "Epoch [700/1000], Loss: 0.2500\n",
      "Epoch [800/1000], Loss: 0.2500\n",
      "Epoch [900/1000], Loss: 0.2500\n",
      "Epoch [1000/1000], Loss: 0.2500\n"
     ]
    },
    {
     "data": {
      "image/png": "[encoded data removed]",
      "text/plain": [
       "<Figure size 640x480 with 1 Axes>"
      ]
     },
     "metadata": {},
     "output_type": "display_data"
    }
   ],
   "source": [
    "import numpy as np\n",
    "import matplotlib.pyplot as plt\n",
    "\n",
    "\n",
    "class ShallowReLUNetwork:\n",
    "    def __init__(self, input_size, hidden_size, output_size):\n",
    "        self.input_size = input_size\n",
    "        self.hidden_size = hidden_size\n",
    "        self.output_size = output_size\n",
    "        # Initialize weights randomly with Xavier initialization\n",
    "        self.W1 = np.random.uniform(-1, 1, size=(input_size, hidden_size))\n",
    "        self.W2 = np.random.uniform(-1, 1, size=(hidden_size, output_size))\n",
    "\n",
    "    def relu(self, x):\n",
    "        return np.maximum(0, x)\n",
    "\n",
    "    def forward(self, X):\n",
    "        self.z1 = np.dot(X, self.W1)\n",
    "        self.a1 = self.relu(self.z1)\n",
    "        self.z2 = np.dot(self.a1, self.W2 )\n",
    "        return self.z2\n",
    "\n",
    "    def backward(self, X, y, learning_rate):\n",
    "        # Gradient of loss w.r.t. Z2\n",
    "        dLoss_dZ2 = self.z2 - y\n",
    "        \n",
    "        # Gradient of loss w.r.t. W2\n",
    "        dLoss_dW2 = np.dot(dLoss_dZ2.T, self.a1)\n",
    "        \n",
    "        # Gradient of loss w.r.t. A1\n",
    "        dLoss_dA1 = np.dot(self.W2, dLoss_dZ2.T)\n",
    "        \n",
    "        # Gradient of loss w.r.t. Z1\n",
    "        dLoss_dZ1 = (self.a1 > 0).T * dLoss_dA1\n",
    "        \n",
    "        # Gradient of loss w.r.t. W1\n",
    "        dLoss_dW1 = np.dot(dLoss_dZ1, X)\n",
    "\n",
    "        self.W2 -= learning_rate * dLoss_dW2.T\n",
    "        self.W1 -= learning_rate * dLoss_dW1.T\n",
    "\n",
    "    def train(self, X, y, num_epochs, learning_rate):\n",
    "        loss_history = []\n",
    "\n",
    "        for epoch in range(num_epochs):\n",
    "            output = self.forward(X)\n",
    "            loss = np.mean((output - y) ** 2)\n",
    "            loss_history.append(loss)\n",
    "\n",
    "            self.backward(X, y, learning_rate)\n",
    "\n",
    "            if (epoch + 1) % 100 == 0:\n",
    "                print(f\"Epoch [{epoch+1}/{num_epochs}], Loss: {loss:.4f}\")\n",
    "\n",
    "        return loss_history\n",
    "\n",
    "\n",
    "# Example usage\n",
    "X = np.array([[0, 0], [0, 1], [1, 0], [1, 1]])\n",
    "y = np.array([[0], [1], [1], [0]]).reshape(-1, 1)\n",
    "print(f'y.shape: {y.shape}')\n",
    "\n",
    "input_size = 2\n",
    "hidden_size = 4\n",
    "output_size = 1\n",
    "num_epochs = 1000\n",
    "learning_rate = 0.01\n",
    "\n",
    "network = ShallowReLUNetwork(input_size, hidden_size, output_size)\n",
    "loss_history = network.train(X, y, num_epochs, learning_rate)\n",
    "\n",
    "# Plot the loss history\n",
    "plt.plot(loss_history)\n",
    "plt.xlabel(\"Epoch\")\n",
    "plt.ylabel(\"Loss\")\n",
    "plt.title(\"Training Loss\")\n",
    "plt.show()"
   ]
  }
 ],
 "metadata": {
  "kernelspec": {
   "display_name": "ai",
   "language": "python",
   "name": "python3"
  },
  "language_info": {
   "codemirror_mode": {
    "name": "ipython",
    "version": 3
   },
   "file_extension": ".py",
   "mimetype": "text/x-python",
   "name": "python",
   "nbconvert_exporter": "python",
   "pygments_lexer": "ipython3",
   "version": "3.11.8"
  }
 },
 "nbformat": 4,
 "nbformat_minor": 2
}
