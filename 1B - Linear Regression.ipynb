{
 "cells": [
  {
   "cell_type": "code",
   "id": "initial_id",
   "metadata": {
    "collapsed": true,
    "jupyter": {
     "outputs_hidden": true
    },
    "ExecuteTime": {
     "end_time": "2024-05-06T11:40:14.466570Z",
     "start_time": "2024-05-06T11:40:12.573944Z"
    }
   },
   "source": [
    "import numpy as np\n",
    "import pandas as pd\n",
    "import matplotlib.pyplot as plt\n",
    "\n",
    "data = pd.read_csv(\"water_waves_training_data.csv\", sep=\",\")\n",
    "data.head()"
   ],
   "execution_count": 1,
   "outputs": []
  },
  {
   "cell_type": "code",
   "id": "c54371bbb280400f",
   "metadata": {
    "ExecuteTime": {
     "end_time": "2024-05-06T11:40:14.843176Z",
     "start_time": "2024-05-06T11:40:14.468554Z"
    }
   },
   "source": [
    "def linear_network(x0, x1, W, eps=1e-16):\n",
    "    f = W[0]*x0 + W[1]*x1 + eps\n",
    "    return x0/f, x1/f, f\n",
    "\n",
    "# Create a general figure showing the data in 3d\n",
    "plt.figure(figsize = [10, 10])\n",
    "ax = plt.axes(projection='3d')\n",
    "ax.scatter3D(data[\"height\"], data[\"wave_length\"], data[\"speed\"], c=data[\"speed\"], cmap='viridis')\n"
   ],
   "execution_count": 2,
   "outputs": []
  },
  {
   "cell_type": "code",
   "id": "a18815ea57074540",
   "metadata": {
    "ExecuteTime": {
     "end_time": "2024-05-06T12:08:00.928299Z",
     "start_time": "2024-05-06T12:08:00.910301Z"
    }
   },
   "source": [
    "# Create a dataset where height is always bigger then wave length, and if they are not swap their positions. The names have been replaced by x0 and x1 as their initial meaning is lost. Keep the speed as x2.\n",
    "\n",
    "data_swapped = data.copy()\n",
    "data_swapped[\"x0\"] = np.maximum(data[\"height\"], data[\"wave_length\"])\n",
    "data_swapped[\"x1\"] = np.minimum(data[\"height\"], data[\"wave_length\"])\n",
    "data_swapped[\"x2\"] = data[\"speed\"]\n",
    "data_swapped_scaled = data_swapped.div\n",
    "\n",
    "data_heightmorewavelength = data[data[\"height\"] >= data[\"wave_length\"]]\n",
    "# Reset the index of the data_heightmorewavelength\n",
    "data_heightmorewavelength = data_heightmorewavelength.reset_index(drop=True)\n",
    "data_wavelengthmoreheight = data[data[\"height\"] <= data[\"wave_length\"]]\n",
    "# Reset the index of the data_wavelengthmoreheight\n",
    "data_wavelengthmoreheight = data_wavelengthmoreheight.reset_index(drop=True)\n",
    "\n",
    "# Rename the columns of the data_heightmorewavelength and data_wavelengthmoreheight to x0, x1, and x2 due to the requirements of a few functions\n",
    "data_heightmorewavelength = data_heightmorewavelength.rename(columns={\"height\": \"x0\", \"wave_length\": \"x1\", \"speed\": \"x2\"})\n",
    "data_wavelengthmoreheight = data_wavelengthmoreheight.rename(columns={\"height\": \"x0\", \"wave_length\": \"x1\", \"speed\": \"x2\"})\n",
    "\n",
    "data_heightmorewavelength.head()\n",
    "data_wavelengthmoreheight.head()"
   ],
   "execution_count": 32,
   "outputs": []
  },
  {
   "metadata": {},
   "cell_type": "code",
   "execution_count": 27,
   "source": [
    "\n",
    "plt.figure(figsize = [10, 10])\n",
    "ax = plt.axes(projection='3d')\n",
    "ax.scatter3D(data_swapped[\"x0\"], data_swapped[\"x1\"], data_swapped[\"x2\"], c=data_swapped[\"x2\"], cmap='viridis')\n"
   ],
   "id": "1e490a96b87fe935",
   "outputs": []
  },
  {
   "cell_type": "code",
   "id": "9d15cb3dfc5597a7",
   "metadata": {
    "ExecuteTime": {
     "end_time": "2024-05-06T11:40:16.300763Z",
     "start_time": "2024-05-06T11:40:15.163639Z"
    }
   },
   "source": [
    "# Fit a line to the data\n",
    "def linear_network(x0, x1, W, x2=np.empty , eps=1e-16):\n",
    "    f = W[0]*x0 + W[1]*x1 + eps\n",
    "    if x2.size == 0:\n",
    "        return x0/f, x1/f, f\n",
    "    else:\n",
    "        mape = 100 * np.mean(np.abs( f/x2 - 1))\n",
    "        return x0/f, x1/f, f, mape\n",
    "    \n",
    "\n",
    "def fit_and_validate(weights, data, data_scaled, network):\n",
    "    \"\"\"\n",
    "    input:\n",
    "    weights      array of weights\n",
    "    data         input data\n",
    "    data_scaled  rescaled input data\n",
    "    network      a function e.g. \"linear_network\" implemented above\n",
    "    \n",
    "    output: the MAPE value corresponding to the given input.\n",
    "    \"\"\"  \n",
    "    #################################################################\n",
    "    # Evaluate network and compute error\n",
    "    n, m, f , mape = network(data[\"x0\"], data[\"x1\"], weights, data[\"x2\"])\n",
    "    # mape    = 100 * np.mean(np.abs( f.values/data[\"x2\"].values - 1))\n",
    "    #################################################################\n",
    "    \n",
    "    \n",
    "    #################################################################\n",
    "    # Plot\n",
    "    fig, (ax1, ax2) = plt.subplots(1, 2, figsize = (12,4))\n",
    "    \n",
    "    #################################################################\n",
    "    # plot scaled data\n",
    "    ax1.scatter(data_scaled.x0, data_scaled.x1, color='r', label='Data')\n",
    "    # fitting on the scaled data\n",
    "    ax1.scatter(n, m, marker=\"x\", label=\"Prediction\")\n",
    "    ax1.legend()\n",
    "    #################################################################\n",
    "    \n",
    "    #################################################################\n",
    "    # verification on the actual data\n",
    "    ax2.loglog(data.x2, f, marker=\"x\", ls='', label=\"Prediction\")\n",
    "    # diagonal line    \n",
    "    z = [data.x2.min(), data.x2.max()]\n",
    "    ax2.plot(z, z, color='r', label = \"f(x,y)=d\")\n",
    "    # Report Error in the plot title\n",
    "    ax2.set_title(f\"MAPE = {mape:.2f} %\" )\n",
    "    ax2.set_xlabel(\"Reference\")\n",
    "    ax2.set_ylabel(\"Prediction\")\n",
    "    ax2.legend()\n",
    "    #################################################################\n",
    "    \n",
    "    return mape\n",
    "\n",
    "%matplotlib inline\n",
    "import ipywidgets as ip\n",
    "\n",
    "mape_list = []\n",
    "\n",
    "def interactive_fit(w0, w1):\n",
    "    \n",
    "    fig, (ax1, ax2) = plt.subplots( nrows=1, ncols=2, figsize=(12,5) )\n",
    "    \n",
    "    n, m, f , mape = linear_network(data_swapped[\"x0\"], data_swapped[\"x1\"], [w0, w1], data_swapped[\"x2\"])\n",
    "    mape_list.append(mape)\n",
    "    \n",
    "    ax1.loglog(data_swapped.x2, f, marker=\"x\", ls='', label=\"Prediction\")\n",
    "    \n",
    "    z = [data_swapped.x2.min(), data_swapped.x2.max()]\n",
    "    ax1.plot(z, z, '-r')\n",
    "    \n",
    "    ax1.set_title(f\"MAPE = {mape:.2f} %\" )\n",
    "    ax1.set_xlabel('Reference')\n",
    "    ax1.set_ylabel('Prediction')    \n",
    "    \n",
    "    \n",
    "    ax2.semilogy( np.arange( len(mape_list) ), mape_list, 'o--')\n",
    "    ax2.set_xlabel('Epochs')\n",
    "    ax2.set_ylabel('MAPE') \n",
    "    \n",
    "\n",
    "\n",
    "\n",
    "ip.interact(interactive_fit, w0=(-0.10, 0.10, 0.001), w1=(-0.10, 0.10, 0.001));\n",
    "# coef = np.polyfit(data_swapped[\"x0\"], data_swapped[\"x1\"], 1)\n",
    "# poly1d_fn = np.poly1d(coef)\n",
    "# \n",
    "# plt.plot(data_swapped[\"x0\"], data_swapped[\"x1\"], '.', data_swapped[\"x0\"], poly1d_fn(data_swapped[\"x0\"]), '-')"
   ],
   "execution_count": 4,
   "outputs": []
  },
  {
   "metadata": {
    "ExecuteTime": {
     "end_time": "2024-05-06T11:40:40.443575Z",
     "start_time": "2024-05-06T11:40:16.302728Z"
    }
   },
   "cell_type": "code",
   "source": [
    "mape_matrix = np.zeros((200, 200))\n",
    "for i in range(200):\n",
    "    for j in range(200):\n",
    "        mape_matrix[i, j] = linear_network(data_swapped[\"x0\"], data_swapped[\"x1\"], [i/1000 - 0.1, j/1000 - 0.1], data_swapped[\"x2\"])[3]\n",
    "        \n",
    "# Get the coordinates of the minimum value of mape\n",
    "min_mape = np.where(mape_matrix == np.min(mape_matrix))\n",
    "print(f\"Minimum MAPE value is {np.min(mape_matrix)} at w0 = {min_mape[0][0]/1000 - 0.1} and w1 = {min_mape[1][0]/1000 - 0.1}\")\n",
    "\n",
    "fit_and_validate([min_mape[0][0]/1000 - 0.1, min_mape[1][0]/1000 - 0.1], data_swapped, data_swapped, linear_network)"
   ],
   "id": "b6982d6d457c45d3",
   "execution_count": 5,
   "outputs": []
  },
  {
   "metadata": {
    "ExecuteTime": {
     "end_time": "2024-05-06T12:09:33.720343Z",
     "start_time": "2024-05-06T12:09:08.828984Z"
    }
   },
   "cell_type": "code",
   "source": [
    "mape_matrix_heightmorewavelength = np.zeros((200, 200))\n",
    "for i in range(200):\n",
    "    for j in range(200):\n",
    "        mape_matrix_heightmorewavelength[i, j] = linear_network(data_heightmorewavelength[\"x0\"], data_heightmorewavelength[\"x1\"], [i/1000 - 0.1, j/1000 - 0.1], data_heightmorewavelength[\"x2\"])[3]\n",
    "        \n",
    "min_mape_heightmorewavelength = np.where(mape_matrix_heightmorewavelength == np.min(mape_matrix_heightmorewavelength))\n",
    "print(f\"Minimum MAPE value is {np.min(mape_matrix_heightmorewavelength)} at w0 = {min_mape_heightmorewavelength[0][0]/1000 - 0.1} and w1 = {min_mape_heightmorewavelength[1][0]/1000 - 0.1}\")\n",
    "fit_and_validate([min_mape_heightmorewavelength[0][0]/1000 - 0.1, min_mape_heightmorewavelength[1][0]/1000 - 0.1], data_heightmorewavelength, data_heightmorewavelength, linear_network)"
   ],
   "id": "b8a33d18c898f396",
   "execution_count": 34,
   "outputs": []
  },
  {
   "metadata": {
    "ExecuteTime": {
     "end_time": "2024-05-06T12:10:04.781353Z",
     "start_time": "2024-05-06T12:09:41.441528Z"
    }
   },
   "cell_type": "code",
   "source": [
    "mape_matrix_wavelengthmoreheight = np.zeros((200, 200))\n",
    "for i in range(200):\n",
    "    for j in range(200):\n",
    "        mape_matrix_wavelengthmoreheight[i, j] = linear_network(data_wavelengthmoreheight[\"x0\"], data_wavelengthmoreheight[\"x1\"], [i/1000 - 0.1, j/1000 - 0.1], data_wavelengthmoreheight[\"x2\"])[3]\n",
    "        \n",
    "min_mape_wavelengthmoreheight = np.where(mape_matrix_wavelengthmoreheight == np.min(mape_matrix_wavelengthmoreheight))\n",
    "print(f\"Minimum MAPE value is {np.min(mape_matrix_wavelengthmoreheight)} at w0 = {min_mape_wavelengthmoreheight[0][0]/1000 - 0.1} and w1 = {min_mape_wavelengthmoreheight[1][0]/1000 - 0.1}\")\n",
    "fit_and_validate([min_mape_wavelengthmoreheight[0][0]/1000 - 0.1, min_mape_wavelengthmoreheight[1][0]/1000 - 0.1], data_wavelengthmoreheight, data_wavelengthmoreheight, linear_network)\n"
   ],
   "id": "7f323985e6da110c",
   "execution_count": 35,
   "outputs": []
  },
  {
   "metadata": {
    "ExecuteTime": {
     "end_time": "2024-05-06T11:48:42.880319Z",
     "start_time": "2024-05-06T11:48:42.867315Z"
    }
   },
   "cell_type": "code",
   "source": [
    "mape_matrix_unswapped = np.zeros((200, 200))\n",
    "data_renamed = data_swapped.rename(columns={\"height\": \"x0\", \"wave_length\": \"x1\", \"speed\": \"x2\"})\n",
    "data_renamed.head()"
   ],
   "id": "9c725c54a7e0c5e6",
   "execution_count": 20,
   "outputs": []
  },
  {
   "metadata": {
    "ExecuteTime": {
     "end_time": "2024-05-06T11:57:54.001595Z",
     "start_time": "2024-05-06T11:57:41.148785Z"
    }
   },
   "cell_type": "code",
   "source": [
    "\n",
    "for i in range(50):\n",
    "    for j in range(50):\n",
    "        mape_matrix_unswapped[i, j] = linear_network(data_renamed[\"x0\"], data_renamed[\"x1\"], [i/100 - 0.2, j/100 - 0.2], data_renamed[\"x2\"])[3]\n",
    "        \n",
    "# display the data\n",
    "print(mape_matrix_unswapped)"
   ],
   "id": "23e49297921f9372",
   "execution_count": 26,
   "outputs": []
  },
  {
   "metadata": {},
   "cell_type": "code",
   "execution_count": 24,
   "source": [
    "\n",
    "# Get the coordinates of the minimum value of mape\n",
    "min_mape_unswapped = np.where(mape_matrix_unswapped == np.min(mape_matrix_unswapped))\n",
    "print(f\"Minimum MAPE value is {np.min(mape_matrix_unswapped)} at w0 = {min_mape[0][0]/100 - 0.2} and w1 = {min_mape[1][0]/100 - 0.2}\")\n",
    "\n",
    "fit_and_validate([min_mape_unswapped[0][0]/100 - 0.2, min_mape_unswapped[1][0]/100 - 0.2], data_renamed, data_renamed, linear_network)"
   ],
   "id": "972b94470c2f7581",
   "outputs": []
  },
  {
   "cell_type": "code",
   "id": "5ed9569f2fbbda27",
   "metadata": {
    "ExecuteTime": {
     "end_time": "2024-05-06T11:40:41.106973Z",
     "start_time": "2024-05-06T11:40:40.445086Z"
    }
   },
   "source": [
    "# Perhaps, the data is better represented in a log-log scale\n",
    "plt.figure(figsize = [10, 10])\n",
    "# Create a subplot\n",
    "plt.subplot(3,2 , 1)\n",
    "plt.plot(np.log(data[\"height\"]), np.log(data[\"wave_length\"]), '.', ls=\"\")\n",
    "plt.subplot(3,2 , 2)\n",
    "plt.plot(np.log(data_swapped[\"x0\"]), np.log(data_swapped[\"x1\"]), '.', ls=\"\")\n",
    "plt.subplot(3,2 , 3)\n",
    "# Plot the figure with a nat-log scale\n",
    "plt.plot(data[\"height\"], np.log(data[\"wave_length\"]), '.', ls=\"\")\n",
    "plt.subplot(3,2 , 4)\n",
    "plt.plot(data_swapped[\"x0\"], np.log(data_swapped[\"x1\"]), '.', ls=\"\")\n",
    "# Plot the figure with a log-nat scale\n",
    "plt.subplot(3,2 , 5)\n",
    "plt.plot(np.log(data[\"height\"]), data[\"wave_length\"], '.', ls=\"\")\n",
    "plt.subplot(3,2 , 6)\n",
    "plt.plot(np.log(data_swapped[\"x0\"]), data_swapped[\"x1\"], '.', ls=\"\")\n"
   ],
   "execution_count": 6,
   "outputs": []
  },
  {
   "metadata": {},
   "cell_type": "code",
   "execution_count": null,
   "source": "",
   "id": "a39f0bcdca0336d5",
   "outputs": []
  }
 ],
 "metadata": {
  "kernelspec": {
   "display_name": "Python 3 (ipykernel)",
   "language": "python",
   "name": "python3"
  },
  "language_info": {
   "codemirror_mode": {
    "name": "ipython",
    "version": 3
   },
   "file_extension": ".py",
   "mimetype": "text/x-python",
   "name": "python",
   "nbconvert_exporter": "python",
   "pygments_lexer": "ipython3",
   "version": "3.10.6"
  }
 },
 "nbformat": 4,
 "nbformat_minor": 5
}
