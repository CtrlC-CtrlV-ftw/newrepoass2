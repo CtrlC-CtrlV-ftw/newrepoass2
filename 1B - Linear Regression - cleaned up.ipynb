{
 "cells": [
  {
   "cell_type": "code",
   "id": "initial_id",
   "metadata": {
    "collapsed": true,
    "jupyter": {
     "outputs_hidden": true
    },
    "ExecuteTime": {
     "end_time": "2024-05-06T11:40:14.466570Z",
     "start_time": "2024-05-06T11:40:12.573944Z"
    }
   },
   "source": [
    "import numpy as np\n",
    "import pandas as pd\n",
    "import matplotlib.pyplot as plt\n",
    "\n",
    "data = pd.read_csv(\"water_waves_training_data.csv\", sep=\",\")\n",
    "data.head()"
   ],
   "execution_count": 1,
   "outputs": []
  },
  {
   "cell_type": "code",
   "id": "c54371bbb280400f",
   "metadata": {
    "ExecuteTime": {
     "end_time": "2024-05-06T11:40:14.843176Z",
     "start_time": "2024-05-06T11:40:14.468554Z"
    }
   },
   "source": [
    "def linear_network(height, wave_length, W, eps=1e-16):\n",
    "    f = W[0]*height + W[1]*wave_length + eps\n",
    "    return height/f, wave_length/f, f\n",
    "# \n",
    "# # Create a general figure showing the data in 3d\n",
    "# plt.figure(figsize = [10, 10])\n",
    "# ax = plt.axes(projection='3d')\n",
    "# ax.scatter3D(data[\"height\"], data[\"wave_length\"], data[\"speed\"], c=data[\"speed\"], cmap='viridis')\n"
   ],
   "execution_count": 2,
   "outputs": []
  },
  {
   "cell_type": "code",
   "id": "a18815ea57074540",
   "metadata": {
    "ExecuteTime": {
     "end_time": "2024-05-06T12:08:00.928299Z",
     "start_time": "2024-05-06T12:08:00.910301Z"
    }
   },
   "source": [
    "# Create a dataset where height is always bigger then wave length, and if they are not swap their positions. The names have been replaced by height and wave_length as their initial meaning is lost. Keep the speed as speed.\n",
    "\n",
    "data_swapped = data.copy()\n",
    "data_swapped[\"height\"] = np.maximum(data[\"height\"], data[\"wave_length\"])\n",
    "data_swapped[\"wave_length\"] = np.minimum(data[\"height\"], data[\"wave_length\"])\n",
    "data_swapped[\"speed\"] = data[\"speed\"]\n",
    "data_swapped_scaled = data_swapped.div\n",
    "\n",
    "data_heightmorewavelength = data[data[\"height\"] >= data[\"wave_length\"]]\n",
    "data_heightmorewavelength = data_heightmorewavelength.reset_index(drop=True)\n",
    "data_wavelengthmoreheight = data[data[\"height\"] <= data[\"wave_length\"]]\n",
    "data_wavelengthmoreheight = data_wavelengthmoreheight.reset_index(drop=True)\n",
    "\n",
    "# Rename the columns of the data_heightmorewavelength and data_wavelengthmoreheight to height, wave_length, and speed due to the requirements of a few functions\n",
    "# data_heightmorewavelength = data_heightmorewavelength.rename(columns={\"height\": \"height\", \"wave_length\": \"wave_length\", \"speed\": \"speed\"})\n",
    "# data_wavelengthmoreheight = data_wavelengthmoreheight.rename(columns={\"height\": \"height\", \"wave_length\": \"wave_length\", \"speed\": \"speed\"})\n",
    "\n",
    "data_heightmorewavelength.head()\n",
    "data_wavelengthmoreheight.head()"
   ],
   "execution_count": 32,
   "outputs": []
  },
  {
   "metadata": {},
   "cell_type": "code",
   "execution_count": 27,
   "source": [
    "\n",
    "plt.figure(figsize = [10, 10])\n",
    "ax = plt.axes(projection='3d')\n",
    "ax.scatter3D(data_swapped[\"height\"], data_swapped[\"wave_length\"], data_swapped[\"speed\"], c=data_swapped[\"speed\"], cmap='viridis')\n"
   ],
   "id": "1e490a96b87fe935",
   "outputs": []
  },
  {
   "cell_type": "code",
   "id": "9d15cb3dfc5597a7",
   "metadata": {
    "ExecuteTime": {
     "end_time": "2024-05-06T11:40:16.300763Z",
     "start_time": "2024-05-06T11:40:15.163639Z"
    }
   },
   "source": [
    "# Fit a line to the data\n",
    "def linear_network(height, wave_length, W, speed=np.empty , eps=1e-16):\n",
    "    f = W[0]*height + W[1]*wave_length + eps\n",
    "    if speed.size == 0:\n",
    "        return height/f, wave_length/f, f\n",
    "    else:\n",
    "        mape = 100 * np.mean(np.abs( f/speed - 1))\n",
    "        return height/f, wave_length/f, f, mape\n",
    "    \n",
    "\n",
    "def fit_and_validate(weights, data, data_scaled, network):\n",
    "    \"\"\"\n",
    "    input:\n",
    "    weights      array of weights\n",
    "    data         input data\n",
    "    data_scaled  rescaled input data\n",
    "    network      a function e.g. \"linear_network\" implemented above\n",
    "    \n",
    "    output: the MAPE value corresponding to the given input.\n",
    "    \n",
    "    This function has been reused from the previously done assignments\n",
    "    \"\"\"  \n",
    "    #################################################################\n",
    "    # Evaluate network and compute error\n",
    "    n, m, f , mape = network(data[\"height\"], data[\"wave_length\"], weights, data[\"speed\"])    \n",
    "    #################################################################\n",
    "    # Plot\n",
    "    fig, (awave_length, aspeed) = plt.subplots(1, 2, figsize = (12,4))\n",
    "    \n",
    "    #################################################################\n",
    "    # plot scaled data\n",
    "    awave_length.scatter(data_scaled.height, data_scaled.wave_length, color='r', label='Data')\n",
    "    # fitting on the scaled data\n",
    "    awave_length.scatter(n, m, marker=\"x\", label=\"Prediction\")\n",
    "    awave_length.legend()   \n",
    "    #################################################################\n",
    "    # verification on the actual data\n",
    "    aspeed.loglog(data.speed, f, marker=\"x\", ls='', label=\"Prediction\")\n",
    "    # diagonal line    \n",
    "    z = [data.speed.min(), data.speed.max()]\n",
    "    aspeed.plot(z, z, color='r', label = \"f(x,y)=d\")\n",
    "    # Report Error in the plot title\n",
    "    aspeed.set_title(f\"MAPE = {mape:.2f} %\" )\n",
    "    aspeed.set_xlabel(\"Reference\")\n",
    "    aspeed.set_ylabel(\"Prediction\")\n",
    "    aspeed.legend()\n",
    "    #################################################################\n",
    "    \n",
    "    return mape\n",
    "\n",
    "%matplotlib inline\n",
    "import ipywidgets as ip\n",
    "\n",
    "mape_list = []\n",
    "\n",
    "def interactive_fit(w0, w1):\n",
    "    \n",
    "    fig, (awave_length, aspeed) = plt.subplots( nrows=1, ncols=2, figsize=(12,5) )\n",
    "    \n",
    "    n, m, f , mape = linear_network(data_swapped[\"height\"], data_swapped[\"wave_length\"], [w0, w1], data_swapped[\"speed\"])\n",
    "    mape_list.append(mape)\n",
    "    \n",
    "    awave_length.loglog(data_swapped.speed, f, marker=\"x\", ls='', label=\"Prediction\")\n",
    "    \n",
    "    z = [data_swapped.speed.min(), data_swapped.speed.max()]\n",
    "    awave_length.plot(z, z, '-r')\n",
    "    \n",
    "    awave_length.set_title(f\"MAPE = {mape:.2f} %\" )\n",
    "    awave_length.set_xlabel('Reference')\n",
    "    awave_length.set_ylabel('Prediction')    \n",
    "    \n",
    "    \n",
    "    aspeed.semilogy( np.arange( len(mape_list) ), mape_list, 'o--')\n",
    "    aspeed.set_xlabel('Epochs')\n",
    "    aspeed.set_ylabel('MAPE') \n",
    "    \n",
    "\n",
    "\n",
    "\n",
    "ip.interact(interactive_fit, w0=(-0.10, 0.10, 0.001), w1=(-0.10, 0.10, 0.001));\n",
    "# coef = np.polyfit(data_swapped[\"height\"], data_swapped[\"wave_length\"], 1)\n",
    "# poly1d_fn = np.poly1d(coef)\n",
    "# \n",
    "# plt.plot(data_swapped[\"height\"], data_swapped[\"wave_length\"], '.', data_swapped[\"height\"], poly1d_fn(data_swapped[\"height\"]), '-')"
   ],
   "execution_count": 4,
   "outputs": []
  },
  {
   "metadata": {
    "ExecuteTime": {
     "end_time": "2024-05-06T11:40:40.443575Z",
     "start_time": "2024-05-06T11:40:16.302728Z"
    }
   },
   "cell_type": "code",
   "source": [
    "mape_matrix = np.zeros((200, 200))\n",
    "for i in range(200):\n",
    "    for j in range(200):\n",
    "        mape_matrix[i, j] = linear_network(data_swapped[\"height\"], data_swapped[\"wave_length\"], [i/1000 - 0.1, j/1000 - 0.1], data_swapped[\"speed\"])[3]\n",
    "        \n",
    "# Get the coordinates of the minimum value of mape\n",
    "min_mape = np.where(mape_matrix == np.min(mape_matrix))\n",
    "print(f\"Minimum MAPE value is {np.min(mape_matrix)} at w0 = {min_mape[0][0]/1000 - 0.1} and w1 = {min_mape[1][0]/1000 - 0.1}\")\n",
    "\n",
    "fit_and_validate([min_mape[0][0]/1000 - 0.1, min_mape[1][0]/1000 - 0.1], data_swapped, data_swapped, linear_network)"
   ],
   "id": "b6982d6d457c45d3",
   "execution_count": 5,
   "outputs": []
  },
  {
   "metadata": {
    "ExecuteTime": {
     "end_time": "2024-05-06T12:09:33.720343Z",
     "start_time": "2024-05-06T12:09:08.828984Z"
    }
   },
   "cell_type": "code",
   "source": [
    "mape_matrix_heightmorewavelength = np.zeros((200, 200))\n",
    "for i in range(200):\n",
    "    for j in range(200):\n",
    "        mape_matrix_heightmorewavelength[i, j] = linear_network(data_heightmorewavelength[\"height\"], data_heightmorewavelength[\"wave_length\"], [i/1000 - 0.1, j/1000 - 0.1], data_heightmorewavelength[\"speed\"])[3]\n",
    "        \n",
    "min_mape_heightmorewavelength = np.where(mape_matrix_heightmorewavelength == np.min(mape_matrix_heightmorewavelength))\n",
    "print(f\"Minimum MAPE value is {np.min(mape_matrix_heightmorewavelength)} at w0 = {min_mape_heightmorewavelength[0][0]/1000 - 0.1} and w1 = {min_mape_heightmorewavelength[1][0]/1000 - 0.1}\")\n",
    "fit_and_validate([min_mape_heightmorewavelength[0][0]/1000 - 0.1, min_mape_heightmorewavelength[1][0]/1000 - 0.1], data_heightmorewavelength, data_heightmorewavelength, linear_network)"
   ],
   "id": "b8a33d18c898f396",
   "execution_count": 34,
   "outputs": []
  },
  {
   "metadata": {
    "ExecuteTime": {
     "end_time": "2024-05-06T12:10:04.781353Z",
     "start_time": "2024-05-06T12:09:41.441528Z"
    }
   },
   "cell_type": "code",
   "source": [
    "mape_matrix_wavelengthmoreheight = np.zeros((200, 200))\n",
    "for i in range(200):\n",
    "    for j in range(200):\n",
    "        mape_matrix_wavelengthmoreheight[i, j] = linear_network(data_wavelengthmoreheight[\"height\"], data_wavelengthmoreheight[\"wave_length\"], [i/1000 - 0.1, j/1000 - 0.1], data_wavelengthmoreheight[\"speed\"])[3]\n",
    "        \n",
    "min_mape_wavelengthmoreheight = np.where(mape_matrix_wavelengthmoreheight == np.min(mape_matrix_wavelengthmoreheight))\n",
    "print(f\"Minimum MAPE value is {np.min(mape_matrix_wavelengthmoreheight)} at w0 = {min_mape_wavelengthmoreheight[0][0]/1000 - 0.1} and w1 = {min_mape_wavelengthmoreheight[1][0]/1000 - 0.1}\")\n",
    "fit_and_validate([min_mape_wavelengthmoreheight[0][0]/1000 - 0.1, min_mape_wavelengthmoreheight[1][0]/1000 - 0.1], data_wavelengthmoreheight, data_wavelengthmoreheight, linear_network)\n"
   ],
   "id": "7f323985e6da110c",
   "execution_count": 35,
   "outputs": []
  },
  {
   "metadata": {
    "ExecuteTime": {
     "end_time": "2024-05-06T11:48:42.880319Z",
     "start_time": "2024-05-06T11:48:42.867315Z"
    }
   },
   "cell_type": "code",
   "source": [
    "mape_matrix_unswapped = np.zeros((200, 200))\n",
    "data_renamed = data_swapped.rename(columns={\"height\": \"height\", \"wave_length\": \"wave_length\", \"speed\": \"speed\"})\n",
    "data_renamed.head()"
   ],
   "id": "9c725c54a7e0c5e6",
   "execution_count": 20,
   "outputs": []
  },
  {
   "metadata": {
    "ExecuteTime": {
     "end_time": "2024-05-06T11:57:54.001595Z",
     "start_time": "2024-05-06T11:57:41.148785Z"
    }
   },
   "cell_type": "code",
   "source": [
    "\n",
    "for i in range(50):\n",
    "    for j in range(50):\n",
    "        mape_matrix_unswapped[i, j] = linear_network(data_renamed[\"height\"], data_renamed[\"wave_length\"], [i/100 - 0.2, j/100 - 0.2], data_renamed[\"speed\"])[3]\n",
    "        \n",
    "# display the data\n",
    "print(mape_matrix_unswapped)"
   ],
   "id": "23e49297921f9372",
   "execution_count": 26,
   "outputs": []
  },
  {
   "metadata": {},
   "cell_type": "code",
   "execution_count": 24,
   "source": [
    "\n",
    "# Get the coordinates of the minimum value of mape\n",
    "min_mape_unswapped = np.where(mape_matrix_unswapped == np.min(mape_matrix_unswapped))\n",
    "print(f\"Minimum MAPE value is {np.min(mape_matrix_unswapped)} at w0 = {min_mape[0][0]/100 - 0.2} and w1 = {min_mape[1][0]/100 - 0.2}\")\n",
    "\n",
    "fit_and_validate([min_mape_unswapped[0][0]/100 - 0.2, min_mape_unswapped[1][0]/100 - 0.2], data_renamed, data_renamed, linear_network)"
   ],
   "id": "972b94470c2f7581",
   "outputs": []
  },
  {
   "cell_type": "code",
   "id": "5ed9569f2fbbda27",
   "metadata": {
    "ExecuteTime": {
     "end_time": "2024-05-06T11:40:41.106973Z",
     "start_time": "2024-05-06T11:40:40.445086Z"
    }
   },
   "source": [
    "# Perhaps, the data is better represented in a log-log scale\n",
    "plt.figure(figsize = [10, 10])\n",
    "# Create a subplot\n",
    "plt.subplot(3,2 , 1)\n",
    "plt.plot(np.log(data[\"height\"]), np.log(data[\"wave_length\"]), '.', ls=\"\")\n",
    "plt.subplot(3,2 , 2)\n",
    "plt.plot(np.log(data_swapped[\"height\"]), np.log(data_swapped[\"wave_length\"]), '.', ls=\"\")\n",
    "plt.subplot(3,2 , 3)\n",
    "# Plot the figure with a nat-log scale\n",
    "plt.plot(data[\"height\"], np.log(data[\"wave_length\"]), '.', ls=\"\")\n",
    "plt.subplot(3,2 , 4)\n",
    "plt.plot(data_swapped[\"height\"], np.log(data_swapped[\"wave_length\"]), '.', ls=\"\")\n",
    "# Plot the figure with a log-nat scale\n",
    "plt.subplot(3,2 , 5)\n",
    "plt.plot(np.log(data[\"height\"]), data[\"wave_length\"], '.', ls=\"\")\n",
    "plt.subplot(3,2 , 6)\n",
    "plt.plot(np.log(data_swapped[\"height\"]), data_swapped[\"wave_length\"], '.', ls=\"\")\n"
   ],
   "execution_count": 6,
   "outputs": []
  },
  {
   "metadata": {},
   "cell_type": "code",
   "execution_count": null,
   "source": "",
   "id": "a39f0bcdca0336d5",
   "outputs": []
  }
 ],
 "metadata": {
  "kernelspec": {
   "display_name": "Python 3 (ipykernel)",
   "language": "python",
   "name": "python3"
  },
  "language_info": {
   "codemirror_mode": {
    "name": "ipython",
    "version": 3
   },
   "file_extension": ".py",
   "mimetype": "text/x-python",
   "name": "python",
   "nbconvert_exporter": "python",
   "pygments_lexer": "ipython3",
   "version": "3.10.6"
  }
 },
 "nbformat": 4,
 "nbformat_minor": 5
}
